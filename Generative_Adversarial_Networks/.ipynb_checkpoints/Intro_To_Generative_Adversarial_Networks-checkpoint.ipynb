{
 "cells": [
  {
   "cell_type": "markdown",
   "metadata": {},
   "source": [
    "# Intro To Generative Adversarial Networks\n",
    "\n",
    "---\n",
    "\n",
    "## Applications\n",
    "\n",
    "1. StackGan - Generating Realistic Images (Image Synthesis)\n",
    "2. iGan - Interactive Image Generation (Turning Sketches to Real Photos)\n",
    "3. CycleGAN - Transform video style of one to another (Tranform Video of Horse to Zebra)\n",
    "\n",
    "\n",
    "## How GANs Work\n",
    "\n",
    "- Autoregressive Models: Generate Images Pixel by Pixel (Used in 1990s)\n",
    "- GAN generate entire images at a go.\n",
    "- The genrative model is unsupervised, there are no labels.\n",
    "\n",
    "\n",
    "\n",
    "<img src=\"gan_img/a1.png\" alt=\"drawing\" style=\"width:600px;\"/>\n",
    "\n",
    "\n",
    "- GAN use a neural network with a differentiable function as a generative model\n",
    "- Generator Network takes random noise (image) as input and tries to reshape to a reconizable image\n",
    "- The generator network ouputs a realistic image.\n",
    "- Many different random noises as inputs result in various realistic output images\n",
    "- Goal is to find images similar to real data by making more images from similar probability distribution\n",
    "- We get the model to do this by adjusting parameters\n",
    "- Hard to compute the probability\n",
    "\n",
    "\n",
    "- A second network called the discriminator learns to guide the generator\n",
    "- the discriminator is just a regular net classifier trained on fake and real data\n",
    "- where the discriminator output the probability that the output is real.\n",
    "- The generator is trained (tuning parameters) to output real\n",
    "- Overtime the probability distribution for the images are mapped to the area with highest success rate\n",
    "\n",
    "<img src=\"gan_img/a2.png\" alt=\"drawing\" style=\"width:600px;\"/>\n",
    "\n",
    "- Analogy: Competition between Police and Counterfieters \n",
    "- Police: Discriminator\n",
    "- Counterfieters: Generator\n",
    "- Police must increase discrimination in order to reduce counterfiet money\n",
    "- Counterfieters must increase realism to produce more counterfiet money"
   ]
  },
  {
   "cell_type": "markdown",
   "metadata": {},
   "source": [
    "# Game Theory:\n",
    "\n",
    "- Adverserial refers to the competition between the generator and discriminator\n",
    "- Game theory used to model cooperation and conflict between agents\n",
    "- Each agent can choose from set of actions and each decision is associated with a well-defined payoff ( E.g we assume rock paper scissors are played randomly from both agents)\n",
    "- Therefore the equillibrium model of decision making is random\n",
    "- To understand GANs we need to understand how equillibria works in the context of machine learning\n",
    "\n",
    "<img src=\"gan_img/a3.png\" alt=\"drawing\" style=\"width:600px;\"/>\n",
    "\n",
    "- most machine learning models decisions are based of optimization of parameters (minimizing cost function)\n",
    "- GANs are different since there are generator and discriminator, which have their own respective cost functions.\n",
    "- The cost for the disceriminator is just the negative cost of the genreator\n",
    "- In other words we can use a value to measure the models image generation accuracy\n",
    "- The generator will minimize the value function, whereas the discriminator wants to maximize the value function\n",
    "\n",
    "<img src=\"gan_img/a5.png\" alt=\"drawing\" style=\"width:600px;\"/>\n",
    "\n",
    "- Equillibrium occurs when value is maximum for the discriminator and the value is minimum fir the generator (Refers to a saddle point)\n",
    "\n",
    "<img src=\"gan_img/a6.png\" alt=\"drawing\" style=\"width:600px;\"/>\n",
    "\n",
    "- Image the "
   ]
  },
  {
   "cell_type": "code",
   "execution_count": null,
   "metadata": {},
   "outputs": [],
   "source": []
  }
 ],
 "metadata": {
  "kernelspec": {
   "display_name": "Python 3",
   "language": "python",
   "name": "python3"
  },
  "language_info": {
   "codemirror_mode": {
    "name": "ipython",
    "version": 3
   },
   "file_extension": ".py",
   "mimetype": "text/x-python",
   "name": "python",
   "nbconvert_exporter": "python",
   "pygments_lexer": "ipython3",
   "version": "3.7.6"
  }
 },
 "nbformat": 4,
 "nbformat_minor": 4
}
