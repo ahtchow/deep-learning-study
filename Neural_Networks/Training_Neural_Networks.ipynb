{
 "cells": [
  {
   "cell_type": "markdown",
   "metadata": {},
   "source": [
    "# Training Neural Networks"
   ]
  },
  {
   "cell_type": "markdown",
   "metadata": {},
   "source": [
    "## Training Optimization\n",
    "\n",
    "Now that we know how to train a neural network, but often they can fail during training. For these reasons:\n",
    "\n",
    "    1. Architecture can be poorly chosen\n",
    "    2. Data noisy\n",
    "    3. Model takes years to run, need to be faster\n",
    "    \n",
    "## Testing\n",
    "\n",
    "First we must understand which model is better based on intuition?\n",
    "\n",
    "![b](Images/b1.png)\n",
    "\n",
    "Well the one on the right makes no mistakes, while the left does worse. We can not simply assume this is the case, so we must use ***testing set*** of data.\n",
    "\n",
    "![b](Images/b2.png)\n",
    "\n",
    "Testing set can always be more accurate than intuition. Always try to go with the simplier model if given a choice.\n",
    "\n",
    "## Overfitting and Underfitting\n",
    "\n",
    "***Overfitting*** - modeling error that occurs when a function is too closely fit to a limited set of data points. (Too specific)\n",
    "\n",
    "***Undefitting*** - occurs when a statistical model or machine learning algorithm cannot capture the underlying trend of the data. (Too General)\n",
    "\n",
    "Use a test set to determine level of fit for data. Below is an visualization\n",
    "\n",
    "![b](Images/b3.png)\n",
    "\n",
    "So what do we do if we get it wrong? Typically aim to overfit and apply techniques to reduce the extreme fit.\n",
    "\n",
    "\n",
    "## Stopping too Early\n",
    "\n",
    "Typically the number of epochs corresponds to the level of fit. \n",
    "\n",
    "![b](Images/b6.png)\n",
    "\n",
    "Rule of thumb, by plotting the test and training error we can assume certain fits about our model:\n",
    "\n",
    "1. Training and Testing Error LARGE : Underfit\n",
    "2. Training and Testing Error SMALL : Just Right\n",
    "3. Training Error TINY and Testing Error MEDIUM: Overfit\n",
    "4. Training Error TINY and Testing Error Large: Overfit\n",
    "\n",
    "![b](Images/b5.png)\n",
    "\n",
    "***Early Stopping***: Algorithm used to stop gradient descent as testing error begins to increase,"
   ]
  },
  {
   "cell_type": "code",
   "execution_count": null,
   "metadata": {},
   "outputs": [],
   "source": []
  }
 ],
 "metadata": {
  "kernelspec": {
   "display_name": "Python 3",
   "language": "python",
   "name": "python3"
  },
  "language_info": {
   "codemirror_mode": {
    "name": "ipython",
    "version": 3
   },
   "file_extension": ".py",
   "mimetype": "text/x-python",
   "name": "python",
   "nbconvert_exporter": "python",
   "pygments_lexer": "ipython3",
   "version": "3.7.6"
  }
 },
 "nbformat": 4,
 "nbformat_minor": 4
}
