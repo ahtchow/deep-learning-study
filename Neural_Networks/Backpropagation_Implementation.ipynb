{
 "cells": [
  {
   "cell_type": "markdown",
   "metadata": {},
   "source": [
    "# Implementing Backpropagation\n",
    "\n",
    "Now we've seen that the error term for the output layer is:\n",
    "\n",
    "$\\delta_{k} = (y_{k} - \\hat{y}_{k}) f'(a_{k})$\n",
    "\n",
    "and the error term for the hidden layer is\n",
    "\n",
    "$\\delta_{j} = \\sum (w_{jk} - \\delta_{k}) f'(h_{j})$\n",
    "\n",
    "For now we'll only consider a simple network with one hidden layer and one output unit. Here's the general algorithm for updating the weights with backpropagation:\n",
    "\n",
    "1. Set the weights steps for each layer to zero\n",
    "    - The input to hidden weights $\\Delta w_{ij} = 0$\n",
    "    - The hidden to output weights $\\Delta W_j = 0$\n",
    "\n",
    "\n",
    "2. For each record in the training data:\n",
    "    - Make a foward pass through the network, calculating the output $\\hat{y}$\n",
    "    - Calculate the error gradient in the output unit, $\\delta^o = (y - \\hat y) f'(z)$ where $z = \\sum_j W_j a_j$, the input to the output unit.\n",
    "    - Propagate the errors to the hidden layer $\\delta^h_j = \\delta^o W_j f'(h_j)$\n",
    "    - Update the weight steps:\n",
    "        - $ΔW_j = ΔW_j +δ^o * a_j$\n",
    "        - $Δw_{ij} = Δw_{ij} + δ^h_j * a_i$\n",
    "        \n",
    "        \n",
    "3. Update the weights, where $\\eta$ is the learning rate and mm is the number of records:\n",
    "\n",
    "    - $W_j = W_j + \\eta \\Delta W_j/m$\n",
    "    - $w_{ij} = w_{ij} + \\eta \\Delta w_{ij}/m$\n",
    "    \n",
    "    \n",
    "4. Repeat 1-3 For $e$ epochs"
   ]
  },
  {
   "cell_type": "code",
   "execution_count": 21,
   "metadata": {},
   "outputs": [],
   "source": [
    "import numpy as np\n",
    "import pandas as pd"
   ]
  },
  {
   "cell_type": "code",
   "execution_count": 22,
   "metadata": {},
   "outputs": [],
   "source": [
    "# Read Data\n",
    "admissions = pd.read_csv('intro_to_neural_network_2.csv')"
   ]
  },
  {
   "cell_type": "code",
   "execution_count": 23,
   "metadata": {},
   "outputs": [
    {
     "name": "stdout",
     "output_type": "stream",
     "text": [
      "   admit       gre       gpa  rank_1  rank_2  rank_3  rank_4\n",
      "0      0 -1.798011  0.578348       0       0       1       0\n",
      "1      1  0.625884  0.736008       0       0       1       0\n",
      "2      1  1.837832  1.603135       1       0       0       0\n",
      "3      1  0.452749 -0.525269       0       0       0       1\n",
      "4      0 -0.586063 -1.208461       0       0       0       1\n",
      "5      1  1.491561 -1.024525       0       1       0       0\n",
      "6      1 -0.239793 -1.077078       1       0       0       0\n",
      "7      0 -1.624876 -0.814312       0       1       0       0\n",
      "8      1 -0.412928  0.000263       0       0       1       0\n",
      "9      0  0.972155  1.392922       0       1       0       0\n"
     ]
    }
   ],
   "source": [
    "# Make dummy variables for rank, one hot encoding\n",
    "data = pd.concat([admissions, pd.get_dummies(admissions['rank'], prefix='rank')], axis=1)\n",
    "data = data.drop('rank', axis=1)\n",
    "\n",
    "# Standarize features to zero mean and a standard deviation of 1\n",
    "for field in ['gre', 'gpa']:\n",
    "    mean, std = data[field].mean(), data[field].std()\n",
    "    data.loc[:,field] = (data[field]-mean)/std\n",
    "    \n",
    "print(data[:10])"
   ]
  },
  {
   "cell_type": "code",
   "execution_count": 24,
   "metadata": {},
   "outputs": [
    {
     "name": "stdout",
     "output_type": "stream",
     "text": [
      "          gre       gpa  rank_1  rank_2  rank_3  rank_4\n",
      "106  0.972155  0.446965       1       0       0       0\n",
      "9    0.972155  1.392922       0       1       0       0\n",
      "61  -0.239793 -0.183673       0       0       0       1\n",
      "224  1.837832 -1.287291       0       1       0       0\n",
      "37  -0.586063 -1.287291       0       0       1       0\n",
      "\n",
      " Targets: \n",
      "\n",
      "106    1\n",
      "9      0\n",
      "61     0\n",
      "224    0\n",
      "37     0\n",
      "Name: admit, dtype: int64\n"
     ]
    }
   ],
   "source": [
    "# Split 90% to Training and 10% Testing\n",
    "np.random.seed(21)\n",
    "sample = np.random.choice(data.index, size=int(len(data)*0.9), replace=False)\n",
    "data, test_data = data.loc[sample], data.drop(sample)\n",
    "\n",
    "# Split into features and targets\n",
    "features, targets = data.drop('admit', axis=1), data['admit']\n",
    "features_test, targets_test = test_data.drop('admit', axis=1), test_data['admit']\n",
    "\n",
    "print(features[:5])\n",
    "\n",
    "print (\"\\n Targets: \\n\")\n",
    "\n",
    "print(targets[:5])"
   ]
  },
  {
   "cell_type": "code",
   "execution_count": 25,
   "metadata": {},
   "outputs": [],
   "source": [
    "# Helper Functions\n",
    "\n",
    "def sigmoid(x): # x is dot product of weights and inputs\n",
    "    return 1/(1 + np.exp(-x))"
   ]
  },
  {
   "cell_type": "code",
   "execution_count": 26,
   "metadata": {},
   "outputs": [
    {
     "name": "stdout",
     "output_type": "stream",
     "text": [
      "Train loss:  0.25135725242598617\n",
      "Train loss:  0.24996540718842886\n",
      "Train loss:  0.24862005218904654\n",
      "Train loss:  0.24731993217179746\n",
      "Train loss:  0.24606380465584848\n",
      "Train loss:  0.24485044179257162\n",
      "Train loss:  0.2436786320186832\n",
      "Train loss:  0.24254718151769536\n",
      "Train loss:  0.24145491550165465\n",
      "Train loss:  0.24040067932493367\n",
      "Prediction accuracy: 0.725\n"
     ]
    }
   ],
   "source": [
    "np.random.seed(21)\n",
    "\n",
    "#Hyper Parameters\n",
    "n_hidden = 2 # Number of Hidden Units\n",
    "epochs = 900\n",
    "learnrate = 0.005\n",
    "\n",
    "# Dimension of Neural Network\n",
    "n_records, n_features = features.shape #(Row, Column)\n",
    "last_loss = None\n",
    "\n",
    "#Initialize Random Weights\n",
    "weights_input_hidden = np.random.normal(scale=1 / n_features ** .5,\n",
    "                                        size=(n_features, n_hidden))\n",
    "weights_hidden_output = np.random.normal(scale=1 / n_features ** .5,\n",
    "                                         size=n_hidden)\n",
    "\n",
    "for e in range(epochs):\n",
    "    \n",
    "    #Initialize delta weights as zeros\n",
    "    del_w_input_hidden = np.zeros(weights_input_hidden.shape)\n",
    "    del_w_hidden_output = np.zeros(weights_hidden_output.shape)\n",
    "    \n",
    "    # For each entry\n",
    "    for x, y in zip(features.values, targets):\n",
    "        \n",
    "        ## Foward Pass\n",
    "        \n",
    "        # Calculate Output\n",
    "        hidden_input = np.dot(x, weights_input_hidden)\n",
    "        hidden_output = sigmoid(hidden_input)\n",
    "        output = sigmoid(np.dot(hidden_output, weights_hidden_output))\n",
    "        \n",
    "        ## Backward Pass\n",
    "        \n",
    "        # Calculate the Error of Prediction\n",
    "        error = y - output\n",
    "\n",
    "        # Calculate error term for the output unit\n",
    "        output_error_term = error * output * (1 - output)\n",
    "\n",
    "        # Calculate the hidden layer's contribution to the error\n",
    "        hidden_error = np.dot(output_error_term, weights_hidden_output)\n",
    "        \n",
    "        # Calculate the error term for the hidden layer\n",
    "        hidden_error_term = hidden_error * hidden_output * (1 -hidden_output)\n",
    "        \n",
    "        # Update the change in weights\n",
    "        del_w_hidden_output += output_error_term * hidden_output\n",
    "        del_w_input_hidden += hidden_error_term * x[:,None] \n",
    "\n",
    "    # Update weights  (don't forget to division by n_records or number of samples)\n",
    "    weights_input_hidden += learnrate * del_w_input_hidden / n_records\n",
    "    weights_hidden_output += learnrate * del_w_hidden_output / n_records\n",
    "\n",
    "    # Printing out the mean square error on the training set\n",
    "    if e % (epochs / 10) == 0:\n",
    "        \n",
    "        # Recalculate for Printing Purposes\n",
    "        hidden_output = sigmoid(np.dot(x, weights_input_hidden))\n",
    "        out = sigmoid(np.dot(hidden_output,\n",
    "                             weights_hidden_output))\n",
    "        \n",
    "        #mean square error \n",
    "        loss = np.mean((out - targets) ** 2)\n",
    "\n",
    "        if last_loss and last_loss < loss:\n",
    "            print(\"Train loss: \", loss, \"  WARNING - Loss Increasing\")\n",
    "        else:\n",
    "            print(\"Train loss: \", loss)\n",
    "        last_loss = loss\n",
    "\n",
    "# Calculate accuracy on test data\n",
    "hidden = sigmoid(np.dot(features_test, weights_input_hidden))\n",
    "out = sigmoid(np.dot(hidden, weights_hidden_output))\n",
    "predictions = out > 0.5\n",
    "accuracy = np.mean(predictions == targets_test)\n",
    "print(\"Prediction accuracy: {:.3f}\".format(accuracy))\n"
   ]
  }
 ],
 "metadata": {
  "kernelspec": {
   "display_name": "Python 3",
   "language": "python",
   "name": "python3"
  },
  "language_info": {
   "codemirror_mode": {
    "name": "ipython",
    "version": 3
   },
   "file_extension": ".py",
   "mimetype": "text/x-python",
   "name": "python",
   "nbconvert_exporter": "python",
   "pygments_lexer": "ipython3",
   "version": "3.7.6"
  }
 },
 "nbformat": 4,
 "nbformat_minor": 4
}
