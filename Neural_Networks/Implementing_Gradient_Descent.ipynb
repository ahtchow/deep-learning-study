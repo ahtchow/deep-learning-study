{
 "cells": [
  {
   "cell_type": "markdown",
   "metadata": {},
   "source": [
    "# Log-Loss vs Mean Squared Error"
   ]
  },
  {
   "cell_type": "code",
   "execution_count": 1,
   "metadata": {},
   "outputs": [],
   "source": [
    "# Imports \n",
    "import numpy as np\n",
    "import pandas as pd"
   ]
  },
  {
   "cell_type": "markdown",
   "metadata": {},
   "source": [
    "There are many other error functions used for neural networks. Let me teach you another one, called the mean squared error. As the name says, this one is the mean of the squares of the differences between the predictions and the labels."
   ]
  },
  {
   "cell_type": "markdown",
   "metadata": {},
   "source": [
    "## Gradient Descent with Squared Errors\n",
    "\n",
    "Goal: Make predictions as close as possible to the real values.\n",
    "\n",
    "To measure, we use a metric of how wrong the predictions are using \"error.\" A common metric is the sum of the squared errors.\n",
    "\n",
    "![a](Images/a1.png)\n",
    "\n",
    "- where y_hat is the prediction and y is thre true value.\n",
    "- you take the sum over all output units j and another sum over all data points μ\n",
    "\n",
    "\n",
    "- This variable j represents the output units of the network. For each output unit, find the difference between the true value yy and the predicted value from the network y_hat, then square the difference, then sum up all those squares.\n",
    "\n",
    "\n",
    "- μ is a sum over all the data points. So, for each data point you calculate the inner sum of the squared differences for each output unit. Then you sum up those squared differences for each data point. That gives you the overall error for all the output predictions for all the data points.\n",
    "\n",
    "## Why Squared Errors (SSE)\n",
    "\n",
    "1. The square ensures the error is always positive, so we only consider magnitude\n",
    "\n",
    "\n",
    "Remember that the output of a neural network, the prediction, depends on weights.\n",
    "\n",
    "![a](Images/a2.png)\n",
    "\n",
    "Our goals is find the weights W_ij that minimize the squared error E. To do this with a neural network we need ***gradient descent***\n",
    "\n",
    "We must take small steps everytime to minimize the error. We can find this direction by calculating the gradient of the squared error. Gradient is another term for rate of change or slope.\n",
    "\n",
    "## Gradient \n",
    "\n",
    "The gradient is just a derivative generalized to functions with more than one variable. We can use calculus to find the gradient at any point in our error function, which depends on the input weights.\n",
    "\n",
    "Below I've plotted an example of the error of a neural network with two inputs, and accordingly, two weights. You can read this like a topographical map where points on a contour line have the same error and darker contour lines correspond to larger errors.\n",
    "\n",
    "At each step, you calculate the error and the gradient, then use those to determine how much to change each weight. Repeating this process will eventually find weights that are close to the minimum of the error function, the black dot in the middle.\n",
    "\n",
    "![a](Images/a3.png)\n",
    "\n",
    "### Caveats / Local Mins\n",
    "\n",
    "Since the weights will just go wherever the gradient takes them, they can end up where the error is low, but not the lowest. These spots are called local minima. If the weights are initialized with the wrong values, gradient descent could lead the weights into a local minimum, illustrated below. There are methods to avoid this, such as using [momentum](https://distill.pub/2017/momentum/).\n",
    "\n",
    "![a](Images/a4.png)\n",
    "\n",
    "\n",
    "## The Math Explained\n",
    "\n",
    "First we need some measure of how bad our prediction are. Just use the difference in output $E = (y - \\hat{y})$. We can also add a square to remove negatives and penalize outliers more, so $E = (y - \\hat{y})^2$.\n",
    "\n",
    "\n",
    "Next we need to sum up the error for all data records denoted by the sum over μ. Also multiply 1/2 to clean up math later.\n",
    "\n",
    "$E = (1/2) \\sum_{μ}(y - \\hat{y})^2$.\n",
    "\n",
    "Next sub in the prediction as a function of weights \n",
    "\n",
    "![a](Images/a5.png)\n",
    "\n",
    "So for a single output: \n",
    "\n",
    "![a](Images/a6.png)\n",
    "\n",
    "Next we find the negative for the gradient, which points to the weights with lowest error.\n",
    "\n",
    "![a](Images/a7.png)\n",
    "\n",
    "### Update Step\n",
    "\n",
    "The update step for each weight parameter can be given as following\n",
    "\n",
    "![a](Images/a8.png)\n",
    "\n",
    "WE must use chain rule to expand the partial derivative. For\n",
    "\n",
    "![a](Images/a9.png)\n",
    "\n",
    "The resulting expansion for the partial derivative of the error with respect weights\n",
    "\n",
    "![a](Images/a10.png)\n",
    "\n",
    "$\\hat{y}$ depends on the weights so we take the partial derivative of y with respect to the weights.\n",
    "\n",
    "![a](Images/a11.png)\n",
    "\n",
    "The partial derivate for $w_{i}$  is just $x_{1}$.\n",
    "\n",
    "![a](Images/a12.png)\n",
    "\n",
    "Putting it all together, we get\n",
    "\n",
    "![a](Images/a15.png)\n",
    "\n",
    "We can simply define an \"ERROR TERM\" as  $δ = (y - \\hat{y}) * f'(h)$\n",
    "\n",
    "and write our weight update as:\n",
    "\n",
    "$w_{i}' = w_{i} + η * δ * x_{i}$"
   ]
  },
  {
   "cell_type": "markdown",
   "metadata": {},
   "source": [
    "# Gradient Descent: The Code \n",
    "\n",
    "From before we saw that one weight update can be calculated as:\n",
    "\n",
    "$\\Delta w_i = \\eta \\, \\delta x_i$ \n",
    "\n",
    "with the error term δ as\n",
    "\n",
    "$\\delta = (y - \\hat y) f'(h) = (y - \\hat y) f'(\\sum w_i x_i)$\n",
    "\n",
    "Remember, in the above equation $(y - \\hat y)$ is the output error, and f'(h) refers to the derivative of the activation function, f(h). We'll call that derivative the output gradient.\n",
    "\n",
    "Now I'll write this out in code for the case of only one output unit. We'll also be using the sigmoid as the activation function f(h).\n",
    "\n",
    "So f(h) = 1/(1+ exp(-x))\n",
    "\n",
    "f'(h) = 1/(1+ exp(-x)) * (1 - 1/(1+ exp(-x))"
   ]
  },
  {
   "cell_type": "code",
   "execution_count": 7,
   "metadata": {},
   "outputs": [],
   "source": [
    "# Functions\n",
    "\n",
    "# Activation Function\n",
    "def sigmoid(x):\n",
    "    return 1/(1+np.exp(-x))\n",
    "\n",
    "# Derivative of Activation Function\n",
    "def sigmoid_prime(x):\n",
    "    return sigmoid(x) * (1 -sigmoid(x))"
   ]
  },
  {
   "cell_type": "code",
   "execution_count": 11,
   "metadata": {},
   "outputs": [
    {
     "name": "stdout",
     "output_type": "stream",
     "text": [
      "Neural Network output:\n",
      "0.6899744811276125\n",
      "Amount of Error:\n",
      "-0.1899744811276125\n",
      "Change in Weights:\n",
      "[-0.02031869 -0.04063738 -0.06095608 -0.08127477]\n"
     ]
    }
   ],
   "source": [
    "learnrate = 0.5\n",
    "x = np.array([1,2,3,4])\n",
    "y = np.array(0.5)\n",
    "w = np.array([0.5, -0.5, 0.3, 0.1])\n",
    "\n",
    "# Gradient Descent Step:\n",
    "\n",
    "\n",
    "# Calculate the node's linear combination of inputs and weights\n",
    "h = np.dot(x,w)\n",
    "# not h = x * w\n",
    "\n",
    "# Calculate the ouptut \n",
    "y_hat  = sigmoid(h)\n",
    "\n",
    "# Calculate error of the ouput\n",
    "error = y - y_hat\n",
    "\n",
    "# Calculate the error term\n",
    "error_term = error * sigmoid_prime(h)\n",
    "\n",
    "# Calculate change in weights\n",
    "del_w = learnrate * error_term * x\n",
    "\n",
    "print('Neural Network output:')\n",
    "print(y_hat)\n",
    "print('Amount of Error:')\n",
    "print(error)\n",
    "print('Change in Weights:')\n",
    "print(del_w)\n"
   ]
  },
  {
   "cell_type": "markdown",
   "metadata": {},
   "source": [
    "# Implementing gradient descent\n",
    "\n",
    "Okay, now we know how to update our weights:\n",
    "\n",
    "$\\Delta w_{ij} = \\eta * \\delta_j * x_i$\n",
    "\n",
    "You've seen how to implement that for a single update, but how do we translate that code to calculate many weight updates so our network will learn?\n",
    "\n",
    "As an example, I'm going to have you use gradient descent to train a network on graduate school admissions data (found at http://www.ats.ucla.edu/stat/data/binary.csv). This dataset has three input features: GRE score, GPA, and the rank of the undergraduate school (numbered 1 through 4). Institutions with rank 1 have the highest prestige, those with rank 4 have the lowest.\n",
    "\n",
    "![a](Images/a16.png)\n",
    "\n",
    "The goal here is to predict if a student will be admitted to a graduate program based on these features. For this, we'll use a network with one output layer with one unit. We'll use a sigmoid function for the output unit activation.\n",
    "\n",
    "# Data Cleanup\n",
    "\n",
    "You might think there will be three input units, but we actually need to transform the data first. The rank feature is categorical, the numbers don't encode any sort of relative values. Rank 2 is not twice as much as rank 1, rank 3 is not 1.5 more than rank 2. Instead, we need to use dummy variables to encode rank, splitting the data into four new columns encoded with ones or zeros. Rows with rank 1 have one in the rank 1 dummy column, and zeros in all other columns. Rows with rank 2 have one in the rank 2 dummy column, and zeros in all other columns. And so on.\n",
    "\n",
    "We'll also need to standardize the GRE and GPA data, which means to scale the values such that they have zero mean and a standard deviation of 1. This is necessary because the sigmoid function squashes really small and really large inputs. The gradient of really small and large inputs is zero, which means that the gradient descent step will go to zero too. Since the GRE and GPA values are fairly large, we have to be really careful about how we initialize the weights or the gradient descent steps will die off and the network won't train. Instead, if we standardize the data, we can initialize the weights easily and everyone is happy.\n",
    "\n",
    "Now that the data is ready, we see that there are six input features: gre, gpa, and the four rank dummy variables. Here is an table of the data.\n",
    "\n",
    "![a](Images/a17.png)"
   ]
  },
  {
   "cell_type": "markdown",
   "metadata": {},
   "source": [
    "# Mean Square Error\n",
    "\n",
    "We're going to make a small change to how we calculate the error here. Instead of the SSE, we're going to use the mean of the square errors (MSE). Now that we're using a lot of data, summing up all the weight steps can lead to really large updates that make the gradient descent diverge.\n",
    "\n",
    "To compensate for this, you'd need to use a quite small learning rate. Instead, we can just divide by the number of records in our data, mm to take the average.This way, no matter how much data we use, our learning rates will typically be in the range of 0.01 to 0.001. Then, we can use the MSE (shown below) to calculate the gradient and the result is the same as before, just averaged instead of summed.\n",
    "\n",
    "$E = (1/2m) \\sum_{\\mu} (y^\\mu - \\hat{y}^\\mu)^2 $\n",
    "\n",
    "Here's the general algorithm for updating the weights with gradient descent:\n",
    "\n",
    "- Set the weight step to zero: $\\Delta w_i = 0$\n",
    "\n",
    "For each record in the training data\n",
    " 1. calculate the output $\\hat y = f(\\sum_i w_i x_i)$\n",
    " 2. calculate the error term, $δ=(y − \\hat{y}) * f'(\\sum_{i} w_{i}x_{i})$\n",
    " 3. update the weight, $Δw' =Δw +δx_{i}$\n",
    "\n",
    "- Update the weights, $w = w + ηΔw / m$ , where η is the learning rate and mm is the number of records.\n",
    "- Repeat for set epochs\n",
    "\n",
    "Our Activation Function remains sigmoid \n",
    "\n",
    "$f(h) = 1/(1+e^{-h})$ , and \n",
    "\n",
    "\n",
    "$f'(h) = f(h)(1 - f(h))$  so $f'(h) = 1/(1+e^{-h}) * (1 - 1/(1+e^{-h}))$"
   ]
  },
  {
   "cell_type": "markdown",
   "metadata": {},
   "source": [
    "# Using numpy to implement\n",
    "\n",
    "1. Initialize the weights\n",
    "       - Must bbe near 0 and not squashed at high or low ends\n",
    "       - Must be random, so use normal distribution centered at 0\n",
    "   \n",
    " Use a scale: $1/ \\sqrt{n}$ , where n is the number of inputs. This keeps the input low for the number of inputs. So:\n",
    " \n",
    "```bash\n",
    "weights = np.random.normal(scale=1/n_features**.5, size=n_features)\n",
    "\n",
    "```\n",
    "\n",
    " 2. Use the np.dot functions to find dot product of two matrices, which is linear combinination of w and x.\n",
    " \n",
    "```bash\n",
    "# input to the output layer\n",
    "output_in = np.dot(weights, inputs)\n",
    "\n",
    "```\n",
    " \n",
    "3. Split training and testing 90/10\n",
    "\n",
    "```bash\n",
    "np.random.seed(42)\n",
    "sample = np.random.choice(data.index, size=int(len(data)*0.9), replace=False)\n",
    "data, test_data = data.loc[sample], data.drop(sample)\n",
    "```\n",
    "\n",
    "4. Splitting Features and Targets\n",
    "```bash\n",
    "# Split into features and targets\n",
    "features, targets = data.drop('admit', axis=1), data['admit']\n",
    "features_test, targets_test = test_data.drop('admit', axis=1), test_data['admit']\n",
    "```"
   ]
  },
  {
   "cell_type": "markdown",
   "metadata": {},
   "source": [
    "# Implementation"
   ]
  },
  {
   "cell_type": "code",
   "execution_count": 16,
   "metadata": {},
   "outputs": [],
   "source": [
    "# Read Data\n",
    "admissions = pd.read_csv('intro_to_neural_network_2.csv')"
   ]
  },
  {
   "cell_type": "code",
   "execution_count": 17,
   "metadata": {},
   "outputs": [
    {
     "name": "stdout",
     "output_type": "stream",
     "text": [
      "   admit       gre       gpa  rank_1  rank_2  rank_3  rank_4\n",
      "0      0 -1.798011  0.578348       0       0       1       0\n",
      "1      1  0.625884  0.736008       0       0       1       0\n",
      "2      1  1.837832  1.603135       1       0       0       0\n",
      "3      1  0.452749 -0.525269       0       0       0       1\n",
      "4      0 -0.586063 -1.208461       0       0       0       1\n",
      "5      1  1.491561 -1.024525       0       1       0       0\n",
      "6      1 -0.239793 -1.077078       1       0       0       0\n",
      "7      0 -1.624876 -0.814312       0       1       0       0\n",
      "8      1 -0.412928  0.000263       0       0       1       0\n",
      "9      0  0.972155  1.392922       0       1       0       0\n"
     ]
    }
   ],
   "source": [
    "# Make dummy variables for rank, one hot encoding\n",
    "data = pd.concat([admissions, pd.get_dummies(admissions['rank'], prefix='rank')], axis=1)\n",
    "data = data.drop('rank', axis=1)\n",
    "\n",
    "# Standarize features to zero mean and a standard deviation of 1\n",
    "for field in ['gre', 'gpa']:\n",
    "    mean, std = data[field].mean(), data[field].std()\n",
    "    data.loc[:,field] = (data[field]-mean)/std\n",
    "    \n",
    "print(data[:10])"
   ]
  },
  {
   "cell_type": "code",
   "execution_count": 18,
   "metadata": {},
   "outputs": [
    {
     "name": "stdout",
     "output_type": "stream",
     "text": [
      "          gre       gpa  rank_1  rank_2  rank_3  rank_4\n",
      "209 -0.066657  0.289305       0       1       0       0\n",
      "280  0.625884  1.445476       0       1       0       0\n",
      "33   1.837832  1.603135       0       0       1       0\n",
      "210  1.318426 -0.131120       0       0       0       1\n",
      "93  -0.066657 -1.208461       0       1       0       0\n",
      "\n",
      " Targets: \n",
      "\n",
      "209    0\n",
      "280    0\n",
      "33     1\n",
      "210    0\n",
      "93     0\n",
      "Name: admit, dtype: int64\n"
     ]
    }
   ],
   "source": [
    "# Split 90% to Training and 10% Testing\n",
    "np.random.seed(42)\n",
    "sample = np.random.choice(data.index, size=int(len(data)*0.9), replace=False)\n",
    "data, test_data = data.loc[sample], data.drop(sample)\n",
    "\n",
    "# Split into features and targets\n",
    "features, targets = data.drop('admit', axis=1), data['admit']\n",
    "features_test, targets_test = test_data.drop('admit', axis=1), test_data['admit']\n",
    "\n",
    "print(features[:5])\n",
    "\n",
    "print (\"\\n Targets: \\n\")\n",
    "\n",
    "print(targets[:5])"
   ]
  },
  {
   "cell_type": "code",
   "execution_count": 21,
   "metadata": {},
   "outputs": [],
   "source": [
    "# Helper Functions\n",
    "\n",
    "def sigmoid(x): # x is dot product of weights and inputs\n",
    "    return 1/(1 + np.exp(-x))\n",
    "    "
   ]
  },
  {
   "cell_type": "code",
   "execution_count": 22,
   "metadata": {},
   "outputs": [],
   "source": [
    "# Gradient Descent\n",
    "\n",
    "#Initialize the weights\n",
    "n_records, n_features = features.shape\n",
    "weights = np.random.normal(scale = 1/n_features**0.5, size = n_features)\n",
    "\n",
    "#Training Parameters\n",
    "epochs = 1000\n",
    "leanrate = 0.5\n",
    "\n",
    "for e in range(epochs):\n",
    "    \n",
    "    # Create a matrix matching shape of weights, this is delta w\n",
    "    del_w = np.zeros(weights.shape)\n",
    "    \n",
    "    "
   ]
  },
  {
   "cell_type": "code",
   "execution_count": null,
   "metadata": {},
   "outputs": [],
   "source": []
  }
 ],
 "metadata": {
  "kernelspec": {
   "display_name": "Python 3",
   "language": "python",
   "name": "python3"
  },
  "language_info": {
   "codemirror_mode": {
    "name": "ipython",
    "version": 3
   },
   "file_extension": ".py",
   "mimetype": "text/x-python",
   "name": "python",
   "nbconvert_exporter": "python",
   "pygments_lexer": "ipython3",
   "version": "3.7.4"
  }
 },
 "nbformat": 4,
 "nbformat_minor": 4
}
