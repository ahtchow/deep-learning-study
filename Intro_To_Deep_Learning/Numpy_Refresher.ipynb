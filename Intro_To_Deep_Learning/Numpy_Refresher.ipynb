{
 "cells": [
  {
   "cell_type": "markdown",
   "metadata": {},
   "source": [
    "# Includes"
   ]
  },
  {
   "cell_type": "code",
   "execution_count": 1,
   "metadata": {},
   "outputs": [],
   "source": [
    "import numpy as np"
   ]
  },
  {
   "cell_type": "markdown",
   "metadata": {},
   "source": [
    "## Data Dimensions\n",
    "\n",
    "    1. Scalars: 0 Dimensions\n",
    "       -> (e.g 1, 2.4, 0.3)\n",
    "       \n",
    "    2. Vectors: 1 Dimensions, known as Length\n",
    "        a. Row Vectors [ 1 2 3 ] (e.g 1x3 matrix)\n",
    "        b. Column Vectors (e.g 3x1 matrix)\n",
    "        \n",
    "    3. Matrix: 2 Dimensions, Rows and Columns\n",
    "    \n",
    "    4. Tensors: n Dimensions\n",
    "        -> (e.g Row of Matrices)"
   ]
  },
  {
   "cell_type": "markdown",
   "metadata": {},
   "source": [
    "## Data Types and Shapes\n",
    "\n",
    "The most common way to work with numbers in NumPy is through ndarray objects. They are similar to Python lists, but can have any number of dimensions. Also, ndarray supports fast math operations, which is just what we want.\n",
    "\n",
    "Since it can store any number of dimensions, you can use ndarrays to represent any of the data types we covered before: scalars, vectors, matrices, or tensors.\n",
    "\n",
    "### Scalars\n",
    "\n",
    "Unlike python where you can use basic types like int and float. Numpy allows you to use primative types like uint8, int8, uint16, int16. When you create a NumPy array, you can specify the type - but every item in the array must have the same type.\n",
    "\n",
    "These types are important because every object you make (vectors, matrices, tensors) eventually stores scalars.\n"
   ]
  },
  {
   "cell_type": "code",
   "execution_count": 8,
   "metadata": {},
   "outputs": [
    {
     "name": "stdout",
     "output_type": "stream",
     "text": [
      "shape is: () ..... () means 0 dimension\n",
      "8\n"
     ]
    }
   ],
   "source": [
    "s = np.array(5)\n",
    "\n",
    "#Shape\n",
    "print(\"shape is:\", s.shape ,'..... () means 0 dimension')\n",
    "\n",
    "#Addition\n",
    "x = s + 3\n",
    "print(x)\n",
    "\n"
   ]
  },
  {
   "cell_type": "markdown",
   "metadata": {},
   "source": [
    "### Vectors\n",
    "\n",
    "To create a vector, you'd pass a Python list to the array function."
   ]
  },
  {
   "cell_type": "code",
   "execution_count": 15,
   "metadata": {},
   "outputs": [
    {
     "name": "stdout",
     "output_type": "stream",
     "text": [
      "shape is: (3,)\n",
      "[2 3]\n"
     ]
    }
   ],
   "source": [
    "v = np.array([1,2,3])\n",
    "#Shape\n",
    "print(\"shape is:\", v.shape )\n",
    "\n",
    "#Python doesn’t understand (3) as a tuple with one item, so it requires the comma. \n",
    "\n",
    "#You can access an element within the vector using indices, like this:\n",
    "x = v[1]\n",
    "\n",
    "#NumPy also supports slicing. For example, to access the items from the second element onward, you would say:\n",
    "print(v[1:])"
   ]
  },
  {
   "cell_type": "markdown",
   "metadata": {},
   "source": [
    "### Matrices \n",
    "\n",
    "You create matrices using NumPy's array function, just you did for vectors. However, instead of just passing in a list, you need to supply a list of lists, where each list represents a row. So to create a 3x3 matrix containing the numbers one through nine, you could do this:"
   ]
  },
  {
   "cell_type": "code",
   "execution_count": 18,
   "metadata": {},
   "outputs": [
    {
     "name": "stdout",
     "output_type": "stream",
     "text": [
      "shape is: (3, 3)\n",
      "6\n"
     ]
    }
   ],
   "source": [
    "m = np.array([[1,2,3], [4,5,6], [7,8,9]])\n",
    "\n",
    "#Shape\n",
    "print(\"shape is:\", m.shape )\n",
    "\n",
    "#Checking its shape attribute would return the tuple (3, 3) to indicate it has two dimensions, each length 3.\n",
    "\n",
    "#You can access elements of matrices just like vectors, but using additional index values. So to find the number 6 in the above matrix, you'd access m[1][2].\n",
    "print(m[1][2])"
   ]
  },
  {
   "cell_type": "markdown",
   "metadata": {},
   "source": [
    "### Tensors\n",
    "\n",
    "Tensors are just like vectors and matrices, but they can have more dimensions. For example, to create a 3x3x2x1 tensor, you could do the following:"
   ]
  },
  {
   "cell_type": "code",
   "execution_count": 20,
   "metadata": {},
   "outputs": [
    {
     "name": "stdout",
     "output_type": "stream",
     "text": [
      "shape is: (3, 3, 2, 1)\n",
      "16\n"
     ]
    }
   ],
   "source": [
    "t = np.array([[ [[1],[2]],[[3],[4]],[[5],[6]]],[[[7],[8]],\\\n",
    "    [[9],[10]],[[11],[12]]],[[[13],[14]],[[15],[16]],[[17],[17]]]])\n",
    "\n",
    "#Shape, very hard to guess\n",
    "print(\"shape is:\", t.shape )\n",
    "\n",
    "#Access\n",
    "print(t[2][1][1][0])"
   ]
  },
  {
   "cell_type": "markdown",
   "metadata": {},
   "source": [
    "## Changing Shapes\n",
    "\n",
    "Sometimes you'll need to change the shape of your data without actually changing its contents. For example, you may have a vector, which is one-dimensional, but need a matrix, which is two-dimensional. There are two ways you can do that."
   ]
  },
  {
   "cell_type": "code",
   "execution_count": 27,
   "metadata": {},
   "outputs": [
    {
     "name": "stdout",
     "output_type": "stream",
     "text": [
      "original:  (4,)\n",
      "[[1]\n",
      " [2]\n",
      " [3]\n",
      " [4]]\n",
      "after:  (4, 1)\n",
      "[[1 2 3 4]]\n",
      "[[1]\n",
      " [2]\n",
      " [3]\n",
      " [4]]\n"
     ]
    }
   ],
   "source": [
    "# Given\n",
    "v = np.array([1,2,3,4])\n",
    "\n",
    "print(\"original: \", v.shape)\n",
    "\n",
    "# What if we want a 4 row by 1 Column matrix\n",
    "v2 = v.reshape(4,1)\n",
    "print(v2)\n",
    "\n",
    "print(\"after: \", v2.shape)\n",
    "\n",
    "#One more thing about reshaping NumPy arrays: \n",
    "#if you see code from experienced NumPy users, \n",
    "#you will often see them use a special slicing syntax instead of calling reshape. \n",
    "#Using this syntax, the previous two examples would look like this:\n",
    "\n",
    "x = v[None, :]\n",
    "x2  = v[:, None]\n",
    "print(x)\n",
    "print(x2)"
   ]
  },
  {
   "cell_type": "markdown",
   "metadata": {},
   "source": [
    "# Matrix Math\n",
    "\n",
    "Element-wise operations -> Treeat items in matrix individually and perform same operation on each one"
   ]
  },
  {
   "cell_type": "code",
   "execution_count": 36,
   "metadata": {},
   "outputs": [
    {
     "name": "stdout",
     "output_type": "stream",
     "text": [
      "452 ns ± 5.78 ns per loop (mean ± std. dev. of 7 runs, 1000000 loops each)\n"
     ]
    }
   ],
   "source": [
    "%%timeit\n",
    "# Iterative Method\n",
    "\n",
    "\n",
    "values = [1,2,3,4,5]\n",
    "for i in range(len(values)):\n",
    "    values[i] += 5\n",
    "    \n",
    "# now values holds [6,7,8,9,10]\n",
    "\n",
    "#That makes sense, but it's a lot of code to write and it runs slowly because it's pure Python."
   ]
  },
  {
   "cell_type": "code",
   "execution_count": 39,
   "metadata": {},
   "outputs": [
    {
     "name": "stdout",
     "output_type": "stream",
     "text": [
      "2.27 µs ± 28.5 ns per loop (mean ± std. dev. of 7 runs, 100000 loops each)\n"
     ]
    }
   ],
   "source": [
    "%%timeit\n",
    "# Matrix Math using Numpy\n",
    "\n",
    "np_values = np.array([1,2,3,4,5])\n",
    "np_values += 5\n"
   ]
  },
  {
   "cell_type": "code",
   "execution_count": 42,
   "metadata": {},
   "outputs": [
    {
     "name": "stdout",
     "output_type": "stream",
     "text": [
      "[ 5 10 15 20 25]\n",
      "[ 5 10 15 20 25]\n"
     ]
    }
   ],
   "source": [
    "# What about multiplication\n",
    "np_values = np.array([1,2,3,4,5])\n",
    "test = np.multiply(np_values, 5)\n",
    "print(test)\n",
    "#or\n",
    "test2 = np_values * 5\n",
    "print(test2)\n"
   ]
  },
  {
   "cell_type": "code",
   "execution_count": 44,
   "metadata": {},
   "outputs": [
    {
     "data": {
      "text/plain": [
       "array([[ 3,  7],\n",
       "       [11, 15]])"
      ]
     },
     "execution_count": 44,
     "metadata": {},
     "output_type": "execute_result"
    }
   ],
   "source": [
    "a = np.array([[1,3],[5,7]])\n",
    "# displays the following result:\n",
    "# array([[1, 3],\n",
    "#        [5, 7]])\n",
    "\n",
    "b = np.array([[2,4],[6,8]])\n",
    "# displays the following result:\n",
    "# array([[2, 4],\n",
    "#        [6, 8]])\n",
    "\n",
    "a + b\n",
    "# displays the following result\n",
    "#      array([[ 3,  7],\n",
    "#             [11, 15]])\n",
    "\n",
    "#Shape must be the same to add"
   ]
  },
  {
   "cell_type": "markdown",
   "metadata": {},
   "source": [
    "# Matrix Product vs Matrix Multiplication"
   ]
  },
  {
   "cell_type": "code",
   "execution_count": 48,
   "metadata": {},
   "outputs": [
    {
     "data": {
      "text/plain": [
       "'\\n| 1 2 3 |   | 2 2 2 |   | 2 4 6 |\\n| 1 2 3 | x | 2 2 2 | = | 2 4 6 |\\n| 1 2 3 |   | 2 2 2 |   | 2 4 6 |\\n'"
      ]
     },
     "execution_count": 48,
     "metadata": {},
     "output_type": "execute_result"
    }
   ],
   "source": [
    "# Matrix Multiplication is not Dot Product\n",
    "'''\n",
    "| 1 2 3 |   | 2 2 2 |   | 2 4 6 |\n",
    "| 1 2 3 | x | 2 2 2 | = | 2 4 6 |\n",
    "| 1 2 3 |   | 2 2 2 |   | 2 4 6 |\n",
    "'''\n",
    "\n",
    "# 1. Rule of Thumb: (AxB)•(CxD) , where B and C must be equal size becomes (AxD)\n",
    "# 2.A•B != A•B"
   ]
  },
  {
   "cell_type": "code",
   "execution_count": 51,
   "metadata": {},
   "outputs": [
    {
     "name": "stdout",
     "output_type": "stream",
     "text": [
      "[[0.25 0.5  0.75]\n",
      " [1.   1.25 1.5 ]]\n",
      "[[0.25 1.   2.25]\n",
      " [4.   6.25 9.  ]]\n"
     ]
    },
    {
     "data": {
      "text/plain": [
       "array([[0.25, 1.  , 2.25],\n",
       "       [4.  , 6.25, 9.  ]])"
      ]
     },
     "execution_count": 51,
     "metadata": {},
     "output_type": "execute_result"
    }
   ],
   "source": [
    "# Element-wise Multiplication\n",
    "\n",
    "m = np.array([[1,2,3],[4,5,6]])\n",
    "# displays the following result:\n",
    "# array([[1, 2, 3],\n",
    "#        [4, 5, 6]])\n",
    "\n",
    "n = m * 0.25\n",
    "print(n)\n",
    "# displays the following result:\n",
    "# array([[ 0.25,  0.5 ,  0.75],\n",
    "#        [ 1.  ,  1.25,  1.5 ]])\n",
    "\n",
    "print(m * n)\n",
    "# displays the following result:\n",
    "# array([[ 0.25,  1.  ,  2.25],\n",
    "#        [ 4.  ,  6.25,  9.  ]])\n",
    "\n",
    "np.multiply(m, n)   # equivalent to m * n\n",
    "# displays the following result:\n",
    "# array([[ 0.25,  1.  ,  2.25],\n",
    "#        [ 4.  ,  6.25,  9.  ]])"
   ]
  },
  {
   "cell_type": "code",
   "execution_count": 57,
   "metadata": {},
   "outputs": [
    {
     "name": "stdout",
     "output_type": "stream",
     "text": [
      "(2, 4)\n",
      "[[1 2 3 4]\n",
      " [5 6 7 8]]\n",
      "(4, 3)\n",
      "[[ 1  2  3]\n",
      " [ 4  5  6]\n",
      " [ 7  8  9]\n",
      " [10 11 12]]\n",
      "[[ 70  80  90]\n",
      " [158 184 210]]\n",
      "(2, 3)\n"
     ]
    }
   ],
   "source": [
    "# Matrix Product\n",
    "\n",
    "a = np.array([[1,2,3,4],[5,6,7,8]])\n",
    "\n",
    "# displays the following result:\n",
    "# array([[1, 2, 3, 4],\n",
    "#        [5, 6, 7, 8]])\n",
    "print(a.shape)\n",
    "print(a)\n",
    "# displays the following result:\n",
    "# (2, 4)\n",
    "\n",
    "b = np.array([[1,2,3],[4,5,6],[7,8,9],[10,11,12]])\n",
    "\n",
    "# displays the following result:\n",
    "# array([[ 1,  2,  3],\n",
    "#        [ 4,  5,  6],\n",
    "#        [ 7,  8,  9],\n",
    "#        [10, 11, 12]])\n",
    "print(b.shape)\n",
    "print(b)\n",
    "# displays the following result:\n",
    "# (4, 3)\n",
    "\n",
    "c = np.matmul(a, b)\n",
    "print(c)\n",
    "\n",
    "# displays the following result:\n",
    "# array([[ 70,  80,  90],\n",
    "#        [158, 184, 210]])\n",
    "print(c.shape)\n",
    "# displays the following result:\n",
    "# (2, 3)"
   ]
  },
  {
   "cell_type": "markdown",
   "metadata": {},
   "source": [
    "### NumPy's dot function\n",
    "You may sometimes see NumPy's dot function in places where you would expect a matmul. It turns out that the results of dot and matmul are the same if the matrices are two dimensional."
   ]
  },
  {
   "cell_type": "code",
   "execution_count": 60,
   "metadata": {},
   "outputs": [
    {
     "name": "stdout",
     "output_type": "stream",
     "text": [
      "[[ 7 10]\n",
      " [15 22]]\n"
     ]
    },
    {
     "data": {
      "text/plain": [
       "array([[ 7, 10],\n",
       "       [15, 22]])"
      ]
     },
     "execution_count": 60,
     "metadata": {},
     "output_type": "execute_result"
    }
   ],
   "source": [
    "a = np.array([[1,2],[3,4]])\n",
    "a\n",
    "# displays the following result:\n",
    "# array([[1, 2],\n",
    "#        [3, 4]])\n",
    "\n",
    "np.dot(a,a)\n",
    "# displays the following result:\n",
    "# array([[ 7, 10],\n",
    "#        [15, 22]])\n",
    "\n",
    "a.dot(a)  # you can call `dot` directly on the `ndarray`\n",
    "# displays the following result:\n",
    "# array([[ 7, 10],\n",
    "#        [15, 22]])\n",
    "print(a.dot(a))\n",
    "\n",
    "np.matmul(a,a)\n",
    "# array([[ 7, 10],\n",
    "#        [15, 22]])"
   ]
  },
  {
   "cell_type": "markdown",
   "metadata": {},
   "source": [
    "# Transpose"
   ]
  },
  {
   "cell_type": "markdown",
   "metadata": {},
   "source": [
    "1. Swap the dimensions of the matrix : 3x2 becomes 2x3\n",
    "\n",
    "2. Swap data, row becomes columns & vice versa\n",
    "\n",
    "Useful? What If:\n",
    "Row: We store student entry\n",
    "Column: We store height, weight, color for each student\n",
    "\n",
    "So: What if we want all the data for a feature in the dataset and not just all features for one person. Transpose!\n",
    "\n",
    "Note: You can only safetly use a transpose in a matrix multiplication if the data is in both of your original matricies are arranged as rows"
   ]
  },
  {
   "cell_type": "code",
   "execution_count": 61,
   "metadata": {},
   "outputs": [
    {
     "data": {
      "text/plain": [
       "'\\n| 1 2 3 4 |          | 1 5 |\\n| 5 6 7 8 | becomes  | 2 6 |\\n                     | 3 7 |\\n                     | 4 5 |\\n'"
      ]
     },
     "execution_count": 61,
     "metadata": {},
     "output_type": "execute_result"
    }
   ],
   "source": [
    "'''\n",
    "| 1 2 3 4 |          | 1 5 |\n",
    "| 5 6 7 8 | becomes  | 2 6 |\n",
    "                     | 3 7 |\n",
    "                     | 4 5 |\n",
    "'''"
   ]
  },
  {
   "cell_type": "code",
   "execution_count": 69,
   "metadata": {},
   "outputs": [
    {
     "name": "stdout",
     "output_type": "stream",
     "text": [
      "[[ 1  2  3  4]\n",
      " [ 5  6  7  8]\n",
      " [ 9 10 11 12]]\n",
      "(3, 4)\n",
      "[[ 1  5  9]\n",
      " [ 2  6 10]\n",
      " [ 3  7 11]\n",
      " [ 4  8 12]]\n",
      "(4, 3)\n"
     ]
    }
   ],
   "source": [
    "# Transpose\n",
    "\n",
    "m = np.array([[1,2,3,4], [5,6,7,8], [9,10,11,12]])\n",
    "print(m)\n",
    "print(m.shape)\n",
    "\n",
    "print(m.transpose()) # or m.T\n",
    "print(m.T.shape)"
   ]
  },
  {
   "cell_type": "markdown",
   "metadata": {},
   "source": [
    "### A real use case\n",
    "\n",
    "I don't want to get into too many details about neural networks because you haven't covered them yet, but there is one place you will almost certainly end up using a transpose, or at least thinking about it.\n",
    "\n",
    "Let's say you have the following two matrices, called inputs and weights,"
   ]
  },
  {
   "cell_type": "code",
   "execution_count": 87,
   "metadata": {},
   "outputs": [
    {
     "name": "stdout",
     "output_type": "stream",
     "text": [
      "Inputs:  [[-0.27  0.45  0.64  0.31]]\n",
      "(1, 4)\n",
      "Weights: \n",
      " [[ 0.02   0.001 -0.03   0.036]\n",
      " [ 0.04  -0.003  0.025  0.009]\n",
      " [ 0.012 -0.045  0.28  -0.067]]\n",
      "(3, 4)\n",
      "\n",
      "We cant dot product due to shape, enless transpose\n",
      "\n",
      "[[-0.01299  0.00664  0.13494]] \n",
      " Shape should be (1, 3)\n",
      "(1, 3)\n",
      "\n",
      "Alternative:\n",
      "\n",
      "[[-0.01299]\n",
      " [ 0.00664]\n",
      " [ 0.13494]] \n",
      " Shape should be (3, 1)\n",
      "(3, 1)\n"
     ]
    }
   ],
   "source": [
    "inputs = np.array([[-0.27,  0.45,  0.64, 0.31]])\n",
    "print(\"Inputs: \" ,inputs)\n",
    "print(inputs.shape)\n",
    "\n",
    "weights = np.array([[0.02, 0.001, -0.03, 0.036], \\\n",
    "    [0.04, -0.003, 0.025, 0.009], [0.012, -0.045, 0.28, -0.067]])\n",
    "print(\"Weights: \\n\" ,weights)\n",
    "print(weights.shape)\n",
    "\n",
    "print(\"\\nWe cant dot product due to shape, enless transpose\\n\")\n",
    "\n",
    "product = np.matmul(inputs, weights.T)\n",
    "print(product , \"\\n Shape should be (1, 3)\")\n",
    "print(product.shape)\n",
    "\n",
    "print(\"\\nAlternative:\\n\")\n",
    "\n",
    "product2 = np.matmul(weights, inputs.T)\n",
    "print(product2 , \"\\n Shape should be (3, 1)\")\n",
    "print(product2.shape)\n"
   ]
  },
  {
   "cell_type": "code",
   "execution_count": null,
   "metadata": {},
   "outputs": [],
   "source": []
  }
 ],
 "metadata": {
  "kernelspec": {
   "display_name": "Python 3",
   "language": "python",
   "name": "python3"
  },
  "language_info": {
   "codemirror_mode": {
    "name": "ipython",
    "version": 3
   },
   "file_extension": ".py",
   "mimetype": "text/x-python",
   "name": "python",
   "nbconvert_exporter": "python",
   "pygments_lexer": "ipython3",
   "version": "3.7.6"
  }
 },
 "nbformat": 4,
 "nbformat_minor": 4
}
