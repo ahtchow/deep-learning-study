{
 "cells": [
  {
   "cell_type": "markdown",
   "metadata": {},
   "source": [
    "# Includes"
   ]
  },
  {
   "cell_type": "code",
   "execution_count": 1,
   "metadata": {},
   "outputs": [],
   "source": [
    "import numpy as np"
   ]
  },
  {
   "cell_type": "markdown",
   "metadata": {},
   "source": [
    "## Data Dimensions\n",
    "\n",
    "    1. Scalars: 0 Dimensions\n",
    "       -> (e.g 1, 2.4, 0.3)\n",
    "       \n",
    "    2. Vectors: 1 Dimensions, known as Length\n",
    "        a. Row Vectors [ 1 2 3 ] (e.g 1x3 matrix)\n",
    "        b. Column Vectors (e.g 3x1 matrix)\n",
    "        \n",
    "    3. Matrix: 2 Dimensions, Rows and Columns\n",
    "    \n",
    "    4. Tensors: n Dimensions\n",
    "        -> (e.g Row of Matrices)"
   ]
  },
  {
   "cell_type": "markdown",
   "metadata": {},
   "source": [
    "## Data Types and Shapes\n",
    "\n",
    "The most common way to work with numbers in NumPy is through ndarray objects. They are similar to Python lists, but can have any number of dimensions. Also, ndarray supports fast math operations, which is just what we want.\n",
    "\n",
    "Since it can store any number of dimensions, you can use ndarrays to represent any of the data types we covered before: scalars, vectors, matrices, or tensors.\n",
    "\n",
    "### Scalars\n",
    "\n",
    "Unlike python where you can use basic types like int and float. Numpy allows you to use primative types like uint8, int8, uint16, int16. When you create a NumPy array, you can specify the type - but every item in the array must have the same type.\n",
    "\n",
    "These types are important because every object you make (vectors, matrices, tensors) eventually stores scalars.\n"
   ]
  },
  {
   "cell_type": "code",
   "execution_count": 8,
   "metadata": {},
   "outputs": [
    {
     "name": "stdout",
     "output_type": "stream",
     "text": [
      "shape is: () ..... () means 0 dimension\n",
      "8\n"
     ]
    }
   ],
   "source": [
    "s = np.array(5)\n",
    "\n",
    "#Shape\n",
    "print(\"shape is:\", s.shape ,'..... () means 0 dimension')\n",
    "\n",
    "#Addition\n",
    "x = s + 3\n",
    "print(x)\n",
    "\n"
   ]
  },
  {
   "cell_type": "markdown",
   "metadata": {},
   "source": [
    "### Vectors\n",
    "\n",
    "To create a vector, you'd pass a Python list to the array function."
   ]
  },
  {
   "cell_type": "code",
   "execution_count": 15,
   "metadata": {},
   "outputs": [
    {
     "name": "stdout",
     "output_type": "stream",
     "text": [
      "shape is: (3,)\n",
      "[2 3]\n"
     ]
    }
   ],
   "source": [
    "v = np.array([1,2,3])\n",
    "#Shape\n",
    "print(\"shape is:\", v.shape )\n",
    "\n",
    "#Python doesn’t understand (3) as a tuple with one item, so it requires the comma. \n",
    "\n",
    "#You can access an element within the vector using indices, like this:\n",
    "x = v[1]\n",
    "\n",
    "#NumPy also supports slicing. For example, to access the items from the second element onward, you would say:\n",
    "print(v[1:])"
   ]
  },
  {
   "cell_type": "markdown",
   "metadata": {},
   "source": [
    "### Matrices \n",
    "\n",
    "You create matrices using NumPy's array function, just you did for vectors. However, instead of just passing in a list, you need to supply a list of lists, where each list represents a row. So to create a 3x3 matrix containing the numbers one through nine, you could do this:"
   ]
  },
  {
   "cell_type": "code",
   "execution_count": 17,
   "metadata": {},
   "outputs": [
    {
     "name": "stdout",
     "output_type": "stream",
     "text": [
      "shape is: (3, 3)\n"
     ]
    }
   ],
   "source": [
    "m = np.array([[1,2,3], [4,5,6], [7,8,9]])\n",
    "\n",
    "#Shape\n",
    "print(\"shape is:\", m.shape )\n",
    "\n",
    "#Checking its shape attribute would return the tuple (3, 3) to indicate it has two dimensions, each length 3.\n",
    "\n"
   ]
  },
  {
   "cell_type": "code",
   "execution_count": null,
   "metadata": {},
   "outputs": [],
   "source": []
  }
 ],
 "metadata": {
  "kernelspec": {
   "display_name": "Python 3",
   "language": "python",
   "name": "python3"
  },
  "language_info": {
   "codemirror_mode": {
    "name": "ipython",
    "version": 3
   },
   "file_extension": ".py",
   "mimetype": "text/x-python",
   "name": "python",
   "nbconvert_exporter": "python",
   "pygments_lexer": "ipython3",
   "version": "3.7.6"
  }
 },
 "nbformat": 4,
 "nbformat_minor": 4
}
