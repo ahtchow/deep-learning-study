{
 "cells": [
  {
   "cell_type": "markdown",
   "metadata": {},
   "source": [
    "# Groundbreaking CNN Architectures\n",
    "\n",
    "1. AlexNet Architecture\n",
    "\n",
    "![q](cnn_img/q42.png)\n",
    "\n",
    "Check out the [AlexNet](http://papers.nips.cc/paper/4824-imagenet-classification-with-deep-convolutional-neural-networks.pdf) paper!\n",
    "\n",
    "- 2012, Developed at University of Toronto using best GPU at that time.\n",
    "- Pioneered the use of the ReLU activation function and dropout as a technique for avoiding overfitting.\n",
    "\n",
    "2. VGG Architectures\n",
    "\n",
    "![q](cnn_img/q43.png)\n",
    "\n",
    "Read more about [VGGNet](https://arxiv.org/pdf/1409.1556.pdf) here.\n",
    "\n",
    "- VGG ,from Oxford\n",
    "- Two Versions: VGG 16 and VGG 19 (# Represents Num of Layers)\n",
    "- Pioneered exclusive use of small 3x3 convolution windows\n",
    "\n",
    "3. ResNet Architecture\n",
    "\n",
    "![q](cnn_img/q45.png)\n",
    "\n",
    "The [ResNet](https://arxiv.org/pdf/1512.03385v1.pdf) paper can be found here.\n",
    "\n",
    "- Created by Microsoft.\n",
    "- Similar to VGG, such that the same structure is repeated again and again for layers.\n",
    "- Largest Version: 152 Layers\n",
    "- Discovered Problem: As the layers increased, at some point there was an issue called ***Vanishing Gradient*** in which the gradient signals get weakend in backpropagation due to the depth.\n",
    "- Solution: Add connections to allow gradients to skip layers to backpropagate faster.\n",
    "\n",
    "![q](cnn_img/q44.png)"
   ]
  },
  {
   "cell_type": "markdown",
   "metadata": {},
   "source": [
    "# More\n",
    "\n",
    "- Here's the [Keras documentation](https://keras.io/applications/) for accessing some famous CNN architectures.\n",
    "- Read this [detailed treatment](http://neuralnetworksanddeeplearning.com/chap5.html) of the vanishing gradients problem.\n",
    "- Here's a [GitHub](https://github.com/jcjohnson/cnn-benchmarks) repository containing benchmarks for different CNN architectures.\n",
    "- Visit the [ImageNet Large Scale Visual Recognition Competition (ILSVRC) website](http://www.image-net.org/challenges/LSVRC/)."
   ]
  },
  {
   "cell_type": "code",
   "execution_count": null,
   "metadata": {},
   "outputs": [],
   "source": []
  }
 ],
 "metadata": {
  "kernelspec": {
   "display_name": "Python 3",
   "language": "python",
   "name": "python3"
  },
  "language_info": {
   "codemirror_mode": {
    "name": "ipython",
    "version": 3
   },
   "file_extension": ".py",
   "mimetype": "text/x-python",
   "name": "python",
   "nbconvert_exporter": "python",
   "pygments_lexer": "ipython3",
   "version": "3.7.6"
  }
 },
 "nbformat": 4,
 "nbformat_minor": 4
}
