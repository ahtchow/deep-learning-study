{
 "cells": [
  {
   "cell_type": "markdown",
   "metadata": {},
   "source": [
    "***Autoencoder*** has two main components: An Encoder and a Decoder\n",
    "\n",
    "Encoder: Compresses the Image Data (Flattening).\n",
    "\n",
    "Decoder: Reconstructs image using compressed data.\n",
    "\n",
    "![a](cnn_img/b1.png)\n",
    "\n",
    "There are many applications of autoencoders such as image reconstruction or converting to greyscale. In the next section I will be building a linear autoencoder.\n",
    "\n",
    "# A Simple Autoencoder\n",
    "\n",
    "We'll start off by building a simple autoencoder to compress the MNIST dataset. With autoencoders, we pass input data through an encoder that makes a compressed representation of the input. Then, this representation is passed through a decoder to reconstruct the input data. Generally the encoder and decoder will be built with neural networks, then trained on example data.\n",
    "\n",
    "<img src='cnn_img/autoencoder_1.png' />\n",
    "\n",
    "### Compressed Representation\n",
    "\n",
    "A compressed representation can be great for saving and sharing any kind of data in a way that is more efficient than storing raw data. In practice, the compressed representation often holds key information about an input image and we can use it for denoising images or oher kinds of reconstruction and transformation!\n",
    "\n",
    "<img src='cnn_img/denoising.png' width=60%/>\n",
    "\n",
    "In this notebook, we'll be build a simple network architecture for the encoder and decoder. Let's get started by importing our libraries and getting the dataset."
   ]
  },
  {
   "cell_type": "code",
   "execution_count": 1,
   "metadata": {},
   "outputs": [],
   "source": [
    "# Imports\n",
    "\n",
    "import torch\n",
    "import numpy as np\n",
    "from torchvision import datasets\n",
    "import torchvision.transforms as transforms\n",
    "import torch.nn as nn\n",
    "import torch.nn.functional as F\n",
    "\n",
    "import matplotlib.pyplot as plt\n",
    "%matplotlib inline"
   ]
  },
  {
   "cell_type": "code",
   "execution_count": 2,
   "metadata": {},
   "outputs": [],
   "source": [
    "#Converts data to torch.FloatTensor\n",
    "transform = transforms.ToTensor()\n",
    "\n",
    "#Load training data\n",
    "train_data = datasets.MNIST(root='data', train=True, download=True, transform=transform)\n",
    "test_data = datasets.MNIST(root='data', train=False, download=True, transform=transform)\n",
    "\n",
    "# Create training and test dataloaders\n",
    "num_workers = 0\n",
    "batch_size = 20\n",
    "\n",
    "# prepare data loaders\n",
    "train_loader = torch.utils.data.DataLoader(train_data, batch_size=batch_size, num_workers=num_workers)\n",
    "test_loader = torch.utils.data.DataLoader(test_data, batch_size=batch_size, num_workers=num_workers)\n",
    "\n",
    "# obtain one batch of training images\n",
    "data_iter = iter(train_loader)\n",
    "images, label = data_iter.next()\n",
    "images = images.numpy()"
   ]
  },
  {
   "cell_type": "markdown",
   "metadata": {},
   "source": [
    "### Visualize the Data"
   ]
  },
  {
   "cell_type": "code",
   "execution_count": 3,
   "metadata": {},
   "outputs": [
    {
     "data": {
      "text/plain": [
       "<matplotlib.image.AxesImage at 0x201573f1a88>"
      ]
     },
     "execution_count": 3,
     "metadata": {},
     "output_type": "execute_result"
    },
    {
     "data": {
      "image/png": "[encoded data removed]",
      "text/plain": [
       "<Figure size 144x144 with 1 Axes>"
      ]
     },
     "metadata": {
      "needs_background": "light"
     },
     "output_type": "display_data"
    }
   ],
   "source": [
    "# get one image from the batch\n",
    "img = np.squeeze(images[0])\n",
    "\n",
    "fig = plt.figure(figsize = (2,2)) \n",
    "ax = fig.add_subplot(111)\n",
    "ax.imshow(img, cmap='gray')"
   ]
  },
  {
   "cell_type": "markdown",
   "metadata": {},
   "source": [
    "---\n",
    "## Linear Autoencoder\n",
    "\n",
    "We'll train an autoencoder with these images by flattening them into 784 length vectors. The images from this dataset are already normalized such that the values are between 0 and 1. Let's start by building a simple autoencoder. The encoder and decoder should be made of **one linear layer**. The units that connect the encoder and decoder will be the _compressed representation_.\n",
    "\n",
    "Since the images are normalized between 0 and 1, we need to use a **sigmoid activation on the output layer** to get values that match this input value range.\n",
    "\n",
    "<img src='cnn_img/simple_autoencoder.png' width=50% />\n",
    "\n",
    "\n",
    "#### Build the graph for the autoencoder in the cell below. \n",
    "> The input images will be flattened into 784 length vectors. The targets are the same as the inputs. \n",
    "> The encoder and decoder will be made of two linear layers, each.\n",
    "> The depth dimensions should change as follows: 784 inputs > **encoding_dim** > 784 outputs.\n",
    "> All layers will have ReLu activations applied except for the final output layer, which has a sigmoid activation.\n",
    "\n",
    "**The compressed representation should be a vector with dimension `encoding_dim=32`.**"
   ]
  },
  {
   "cell_type": "code",
   "execution_count": 4,
   "metadata": {},
   "outputs": [],
   "source": [
    "class Autoencoder(nn.Module):\n",
    "    def __init__(self, encoding_dim):\n",
    "        super(Autoencoder, self).__init__()\n",
    "        \n",
    "        # Encoder\n",
    "        self.fc1 = nn.Linear(28 *28 , encoding_dim) #(input size -> encoding_dim), Compression\n",
    "        \n",
    "        # Decoder\n",
    "        self.fc2 = nn.Linear(encoding_dim, 28*28) #(encoding_dim -> input size), Decompression\n",
    "        \n",
    "    def forward(self, x):\n",
    "        \n",
    "        x = F.relu(self.fc1(x))\n",
    "        x = torch.sigmoid(self.fc2(x))\n",
    "        return x"
   ]
  },
  {
   "cell_type": "code",
   "execution_count": 5,
   "metadata": {},
   "outputs": [
    {
     "name": "stdout",
     "output_type": "stream",
     "text": [
      "Autoencoder(\n",
      "  (fc1): Linear(in_features=784, out_features=32, bias=True)\n",
      "  (fc2): Linear(in_features=32, out_features=784, bias=True)\n",
      ")\n"
     ]
    }
   ],
   "source": [
    "# initialize the NN\n",
    "encoding_dim = 32\n",
    "model = Autoencoder(encoding_dim)\n",
    "print(model)"
   ]
  },
  {
   "cell_type": "markdown",
   "metadata": {},
   "source": [
    "---\n",
    "## Training\n",
    "\n",
    "Here I'll write a bit of code to train the network. I'm not too interested in validation here, so I'll just monitor the training loss and the test loss afterwards. \n",
    "\n",
    "We are not concerned with labels in this case, just images, which we can get from the `train_loader`. Because we're comparing pixel values in input and output images, it will be best to use a loss that is meant for a regression task. Regression is all about comparing _quantities_ rather than probabilistic values. So, in this case, I'll use `MSELoss`. And compare output images and input images as follows:\n",
    "```\n",
    "loss = criterion(outputs, images)\n",
    "```\n",
    "\n",
    "Otherwise, this is pretty straightfoward training with PyTorch. We flatten our images, pass them into the autoencoder, and record the training loss as we go."
   ]
  },
  {
   "cell_type": "code",
   "execution_count": 6,
   "metadata": {},
   "outputs": [
    {
     "name": "stdout",
     "output_type": "stream",
     "text": [
      "Epoch: 1 \tTraining Loss: 0.628202\n",
      "Epoch: 2 \tTraining Loss: 0.295201\n",
      "Epoch: 3 \tTraining Loss: 0.250456\n",
      "Epoch: 4 \tTraining Loss: 0.242772\n",
      "Epoch: 5 \tTraining Loss: 0.239313\n",
      "Epoch: 6 \tTraining Loss: 0.237183\n",
      "Epoch: 7 \tTraining Loss: 0.235740\n",
      "Epoch: 8 \tTraining Loss: 0.234426\n",
      "Epoch: 9 \tTraining Loss: 0.233414\n",
      "Epoch: 10 \tTraining Loss: 0.232508\n",
      "Epoch: 11 \tTraining Loss: 0.231778\n",
      "Epoch: 12 \tTraining Loss: 0.231136\n",
      "Epoch: 13 \tTraining Loss: 0.230565\n",
      "Epoch: 14 \tTraining Loss: 0.230031\n",
      "Epoch: 15 \tTraining Loss: 0.229524\n",
      "Epoch: 16 \tTraining Loss: 0.228996\n",
      "Epoch: 17 \tTraining Loss: 0.228506\n",
      "Epoch: 18 \tTraining Loss: 0.228111\n",
      "Epoch: 19 \tTraining Loss: 0.227750\n",
      "Epoch: 20 \tTraining Loss: 0.227414\n"
     ]
    }
   ],
   "source": [
    "criterion = nn.MSELoss()\n",
    "optimizer = torch.optim.Adam(model.parameters(), lr = 0.001)\n",
    "\n",
    "n_epoch = 20\n",
    "\n",
    "for epoch in range(1, n_epoch+1):\n",
    "    \n",
    "    train_loss = 0.0 #monitor training loss\n",
    "    \n",
    "    #Train model\n",
    "    for data in train_loader: #Not concerned about labels\n",
    "        images, labels = data #Seperate the pair\n",
    "        images = images.view(images.size(0), -1) # flatten images into 1-d vector\n",
    "        optimizer.zero_grad() # Reset Gradient Vals\n",
    "        output = model(images) # Foward Pass\n",
    "        loss = criterion(output, images) #MSE Error\n",
    "        loss.backward() # Gradient Descent\n",
    "        optimizer.step() # Backpropagation\n",
    "        train_loss += loss.item()*images.size(0) # update running training loss\n",
    "        \n",
    "    # print avg training statistics \n",
    "    train_loss = train_loss/len(train_loader)\n",
    "    print('Epoch: {} \\tTraining Loss: {:.6f}'.format(\n",
    "        epoch, \n",
    "        train_loss\n",
    "        ))        "
   ]
  },
  {
   "cell_type": "markdown",
   "metadata": {},
   "source": [
    "## Checking out the results\n",
    "\n",
    "Below I've plotted some of the test images along with their reconstructions. For the most part these look pretty good except for some blurriness in some parts."
   ]
  },
  {
   "cell_type": "code",
   "execution_count": 12,
   "metadata": {},
   "outputs": [
    {
     "name": "stdout",
     "output_type": "stream",
     "text": [
      "torch.Size([20, 784])\n",
      "First Row is original, the second row is the decoded images\n"
     ]
    },
    {
     "data": {
      "image/png": "[encoded data removed]",
      "text/plain": [
       "<Figure size 1800x288 with 20 Axes>"
      ]
     },
     "metadata": {
      "needs_background": "light"
     },
     "output_type": "display_data"
    }
   ],
   "source": [
    "# obtain one batch of test images\n",
    "dataiter = iter(test_loader)\n",
    "images, labels = dataiter.next()\n",
    "\n",
    "images_flatten = images.view(images.size(0), -1)\n",
    "print(images_flatten.size())\n",
    "output = model(images_flatten)\n",
    "\n",
    "# prep images for display\n",
    "images = images.numpy()\n",
    "output = output.view(batch_size, 1, 28,28) # output is resized into a batch of images\n",
    "# use detach when it's an output that requires_grad\n",
    "output = output.detach().numpy()\n",
    "\n",
    "# plot the first ten input images and then reconstructed images\n",
    "fig, axes = plt.subplots(nrows=2, ncols=10, sharex=True, sharey=True, figsize=(25,4))\n",
    "\n",
    "# input images on top row, reconstructions on bottom\n",
    "for images, row in zip([images, output], axes):\n",
    "    for img, ax in zip(images, row):\n",
    "        ax.imshow(np.squeeze(img), cmap='gray')\n",
    "        ax.get_xaxis().set_visible(False)\n",
    "        ax.get_yaxis().set_visible(False)\n",
    "        \n",
    "print('First Row is original, the second row is the decoded images')"
   ]
  },
  {
   "cell_type": "markdown",
   "metadata": {},
   "source": [
    "## Up Next\n",
    "\n",
    "We're dealing with images here, so we can (usually) get better performance using convolution layers. So, next we'll build a better autoencoder with convolutional layers.\n",
    "\n",
    "Convolutions layers provide a method of preserve spatial info.\n",
    "\n",
    "The convolutional encoder is made up of a serious of convolution layers ment to retain patterns about the images in depth up until the compressed representation. PyTorch using the term \"Upsampling\" to define these operations.\n",
    "\n",
    "![b](cnn_img/b2.png)\n",
    "\n",
    "\n",
    "---\n",
    "\n",
    "\n",
    "The de-pooling or \"decoding\" layer is made up of layers that perform algorithms such as Nearest Neighbours or Linear Interpolation to resize the image back to its original state.\n",
    "\n",
    "![b](cnn_img/b3.png)\n",
    "\n",
    "Instead we can use a transpose convolutional layer, which is a convolution layer that upscale the feature maps provided. Here is how it works: \n",
    "\n",
    "Instead of reducing our layer size by having kernals slide over our inputs we can take a larger kernal (3x3) to expand the feauture maps. As we can see, for each pixel a 3x3 takes form to expand the resultant feature map.\n",
    "\n",
    "![b](cnn_img/b4.png)\n",
    "\n",
    "One problem could occur when overlapping maps causes the intensity values to sum up. A quick resolution is to use a 2x2 filter with a stride of 2 to prevent overlap.\n",
    "\n",
    "![b](cnn_img/b6.png)\n",
    "\n"
   ]
  },
  {
   "cell_type": "code",
   "execution_count": null,
   "metadata": {},
   "outputs": [],
   "source": []
  }
 ],
 "metadata": {
  "kernelspec": {
   "display_name": "Python 3",
   "language": "python",
   "name": "python3"
  },
  "language_info": {
   "codemirror_mode": {
    "name": "ipython",
    "version": 3
   },
   "file_extension": ".py",
   "mimetype": "text/x-python",
   "name": "python",
   "nbconvert_exporter": "python",
   "pygments_lexer": "ipython3",
   "version": "3.7.6"
  }
 },
 "nbformat": 4,
 "nbformat_minor": 4
}
